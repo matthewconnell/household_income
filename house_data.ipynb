{
 "cells": [
  {
   "cell_type": "code",
   "execution_count": 1,
   "id": "3c57b948-982e-41f2-8eac-26b67bfa41dc",
   "metadata": {},
   "outputs": [],
   "source": [
    "import pandas as p"
   ]
  },
  {
   "cell_type": "markdown",
   "id": "bf4962e6-c20a-4dcf-946d-3473ee345838",
   "metadata": {},
   "source": [
    "This will be our notebook to manipulate data"
   ]
  },
  {
   "cell_type": "code",
   "execution_count": null,
   "id": "13e8bf16-6921-4bff-91b0-50fb0bbb5e60",
   "metadata": {},
   "outputs": [],
   "source": []
  }
 ],
 "metadata": {
  "kernelspec": {
   "display_name": "Python 3 (ipykernel)",
   "language": "python",
   "name": "python3"
  },
  "language_info": {
   "codemirror_mode": {
    "name": "ipython",
    "version": 3
   },
   "file_extension": ".py",
   "mimetype": "text/x-python",
   "name": "python",
   "nbconvert_exporter": "python",
   "pygments_lexer": "ipython3",
   "version": "3.9.12"
  }
 },
 "nbformat": 4,
 "nbformat_minor": 5
}
